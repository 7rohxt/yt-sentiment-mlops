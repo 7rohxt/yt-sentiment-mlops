{
 "cells": [
  {
   "cell_type": "code",
   "execution_count": 1,
   "id": "6ad0cf47",
   "metadata": {},
   "outputs": [
    {
     "name": "stdout",
     "output_type": "stream",
     "text": [
      "🏃 View run classy-sponge-141 at: http://ec2-54-221-159-210.compute-1.amazonaws.com:5000/#/experiments/0/runs/8ad27751123c40ab9c9a2ae39ef5d45c\n",
      "🧪 View experiment at: http://ec2-54-221-159-210.compute-1.amazonaws.com:5000/#/experiments/0\n"
     ]
    }
   ],
   "source": [
    "import mlflow\n",
    "\n",
    "mlflow.set_tracking_uri(\"http://ec2-54-221-159-210.compute-1.amazonaws.com:5000/\")\n",
    "\n",
    "with mlflow.start_run():\n",
    "    mlflow.log_param(\"param1\", 15)\n",
    "    mlflow.log_metric(\"metric1\", 0.89)"
   ]
  }
 ],
 "metadata": {
  "kernelspec": {
   "display_name": "mlops-sentiment",
   "language": "python",
   "name": "python3"
  },
  "language_info": {
   "codemirror_mode": {
    "name": "ipython",
    "version": 3
   },
   "file_extension": ".py",
   "mimetype": "text/x-python",
   "name": "python",
   "nbconvert_exporter": "python",
   "pygments_lexer": "ipython3",
   "version": "3.13.5"
  }
 },
 "nbformat": 4,
 "nbformat_minor": 5
}
